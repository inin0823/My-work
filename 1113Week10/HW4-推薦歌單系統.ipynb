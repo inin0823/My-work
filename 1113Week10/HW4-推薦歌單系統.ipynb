{
 "cells": [
  {
   "cell_type": "code",
   "execution_count": 1,
   "metadata": {},
   "outputs": [
    {
     "name": "stdout",
     "output_type": "stream",
     "text": [
      "為您推薦的歌曲為:G.E.M.鄧紫棋《光年之外》\n",
      "請問是否喜歡這首歌？「喜歡」請輸入1，「不喜歡」請輸入2：2\n",
      "為您推薦的歌曲為:五月天 、田馥甄《五月天 人生無限公司 Life Live 好友加班篇》\n",
      "請問是否喜歡這首歌？「喜歡」請輸入1，「不喜歡」請輸入2：2\n",
      "為您推薦的歌曲為:陳奕迅《讓我留在你身邊》\n",
      "請問是否喜歡這首歌？「喜歡」請輸入1，「不喜歡」請輸入2：2\n",
      "為您推薦的歌曲為:郁可唯《路過人間》\n",
      "請問是否喜歡這首歌？「喜歡」請輸入1，「不喜歡」請輸入2：1\n",
      "謝謝您的使用!妳的喜愛清單如下:\n",
      "歌曲:郁可唯《路過人間》\n"
     ]
    }
   ],
   "source": [
    "import pandas #匯入pandas模組\n",
    "import random #匯入random模組\n",
    "like_list=[]\n",
    "def append_function(choice,lists):  #將使用者喜歡的內容放進一個串列，最後可以印出喜愛清單\n",
    "    aa=choice+\":\"+lists\n",
    "    like_list.append(aa)\n",
    "def congratulation_name(name):      #當選擇喜歡時會恭喜詞\n",
    "    c=\"-\"*30+\"\\n《祝你有個美好的\"+name+\"的時光》\\n\"+\"-\"*30\n",
    "    return c\n",
    "def song_choice():\n",
    "    dfs = pandas.read_html(\"https://tw-pop-chart.blogspot.com/2019/06/kkbox-2019-06-07-2019-06-13.html\") #讀取網頁的表單\n",
    "    music=dfs[0] #取出表單的第一個元素\n",
    "    while 1:\n",
    "        a=random.randint(0,49)\n",
    "        singer=music.loc[a][2]  #取得隨機變數a對應的歌曲\n",
    "        name=music.loc[a][3] #取得隨機變數a對應的歌曲\n",
    "        print(\"為您推薦的歌曲為:\"+singer+name)\n",
    "        global b\n",
    "        result=input(\"請問是否喜歡這首歌？「喜歡」請輸入1，「不喜歡」請輸入2：\")\n",
    "        if result==\"2\":\n",
    "            continue\n",
    "        if result==\"1\":\n",
    "            append_function(\"歌曲\",singer+name)\n",
    "            b=congratulation_name(\"聽歌\")\n",
    "            return b\n",
    "        else:\n",
    "            while result==\"1\"or \"2\":\n",
    "                print(\"請輸入正確的回應！\")\n",
    "                result=input(\"請問是否喜歡這首歌？「喜歡」請輸入1，「不喜歡」請輸入2：\")\n",
    "                if result==\"1\":\n",
    "                    append_function(\"歌曲\",singer+name)\n",
    "                    b=congratulation_name(\"聽歌\")\n",
    "                    return b\n",
    "                if result==\"2\":\n",
    "                    break\n",
    "song_choice()\n",
    "print(\"謝謝您的使用!妳的喜愛清單如下:\\n\",\"\\n\".join(like_list),sep=\"\")"
   ]
  },
  {
   "cell_type": "code",
   "execution_count": null,
   "metadata": {},
   "outputs": [],
   "source": []
  }
 ],
 "metadata": {
  "kernelspec": {
   "display_name": "Python 3",
   "language": "python",
   "name": "python3"
  },
  "language_info": {
   "codemirror_mode": {
    "name": "ipython",
    "version": 3
   },
   "file_extension": ".py",
   "mimetype": "text/x-python",
   "name": "python",
   "nbconvert_exporter": "python",
   "pygments_lexer": "ipython3",
   "version": "3.7.4"
  }
 },
 "nbformat": 4,
 "nbformat_minor": 2
}
