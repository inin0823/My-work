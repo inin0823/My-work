{
 "cells": [
  {
   "cell_type": "markdown",
   "metadata": {},
   "source": [
    "## HW3- 簡單的水果字典"
   ]
  },
  {
   "cell_type": "code",
   "execution_count": 6,
   "metadata": {},
   "outputs": [
    {
     "name": "stdout",
     "output_type": "stream",
     "text": [
      "請輸入欲查詢的英文單字:banana\n",
      "香蕉\n",
      "以下是字典有的東東!\n",
      "apple:蘋果\n",
      "banana:香蕉\n",
      "orange:橘子\n"
     ]
    }
   ],
   "source": [
    "dict1={\"apple\":\"蘋果\",\"banana\":\"香蕉\",\"orange\":\"橘子\",}\n",
    "word=input(\"請輸入欲查詢的英文單字:\")\n",
    "print(dict1.get(word,\"查不到這個英文單字\"))\n",
    "print(\"以下是字典有的東東!\")\n",
    "for item in dict1:\n",
    "    print(item,\":\",dict1[item],sep=\"\")"
   ]
  },
  {
   "cell_type": "code",
   "execution_count": null,
   "metadata": {},
   "outputs": [],
   "source": []
  }
 ],
 "metadata": {
  "kernelspec": {
   "display_name": "Python 3",
   "language": "python",
   "name": "python3"
  },
  "language_info": {
   "codemirror_mode": {
    "name": "ipython",
    "version": 3
   },
   "file_extension": ".py",
   "mimetype": "text/x-python",
   "name": "python",
   "nbconvert_exporter": "python",
   "pygments_lexer": "ipython3",
   "version": "3.7.4"
  }
 },
 "nbformat": 4,
 "nbformat_minor": 2
}
