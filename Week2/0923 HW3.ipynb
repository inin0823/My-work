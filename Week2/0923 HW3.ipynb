{
 "cells": [
  {
   "cell_type": "code",
   "execution_count": 1,
   "metadata": {},
   "outputs": [
    {
     "name": "stdout",
     "output_type": "stream",
     "text": [
      "請輸入一個日期(以四碼方式輸入):0823\n",
      "中秋節 9/13(五)-9/15(日) 3天 21\n"
     ]
    }
   ],
   "source": [
    "first=\"春節 2/2(六)-2/10(日) 9天\"\n",
    "second=\"228連假 2/28(四)-3/3(日) 4天\"\n",
    "third=\"兒童清明節 4/4(四)-4/7(日) 4天\"\n",
    "fourth=\"端午節 6/7(五)-6/9(日) 3天\"\n",
    "fifth=\"中秋節 9/13(五)-9/15(日) 3天\"\n",
    "sixth=\"國慶連假 10/10(四)-10/13(日) 4天\"\n",
    "Jan=0;Feb=31;Mar=59;Apr=90;May=120;Jun=151;Jul=181;Aug=212;Sep=243;Oct=273;Nov=304;Dec=334\n",
    "unreasonable=[\"0229\",\"0230\",\"0231\",\"0431\",\"0631\",\"0931\",\"1131\"]\n",
    "while(1):\n",
    "  date=input(\"請輸入一個日期(以四碼方式輸入):\")\n",
    "  if((date[:2]>=\"01\"and date[:2]<=\"12\")and(date[2:]>=\"01\"and date[2:]<=\"31\"))\\\n",
    "     and (len(date)==4 and date not in unreasonable):\n",
    "    if   date[:2]==\"01\":\n",
    "           print(first,33-int(date[2:]))\n",
    "    elif date[:2]==\"02\":\n",
    "         if date[2:]<=\"02\": \n",
    "           print(first,33-(Feb+int(date[2:])))\n",
    "         else:\n",
    "           print(second,59-(Feb+int(date[2:])))\n",
    "    elif date[:2]==\"03\":\n",
    "           print(third,94-(Mar+int(date[2:])))\n",
    "    elif date[:2]==\"04\":\n",
    "         if date[2:]<=\"04\": \n",
    "           print(third,94-(Apr+int(date[2:])))\n",
    "         else:\n",
    "           print(fourth,158-(Apr+int(date[2:])))\n",
    "    elif date[:2]==\"05\":\n",
    "           print(fourth,158-(May+int(date[2:])))\n",
    "    elif date[:2]==\"06\":\n",
    "         if date[2:]<=\"07\": \n",
    "           print(fourth,158-(Jun+int(date[2:])))\n",
    "         else:\n",
    "           print(fifth,256-(Jun+int(date[2:])))\n",
    "    elif date[:2]==\"07\":\n",
    "           print(fifth,256-(Jul+int(date[2:])))\n",
    "    elif date[:2]==\"08\":\n",
    "           print(fifth,256-(Aug+int(date[2:])))\n",
    "    elif date[:2]==\"09\":\n",
    "         if date[2:]<=\"13\": \n",
    "           print(fifth,256-(Sep+int(date[2:])))\n",
    "         else:\n",
    "           print(sixth,283-(Sep+int(date[2:])))\n",
    "    elif date[:2]==\"10\":\n",
    "         if date[2:]<=\"10\": \n",
    "           print(sixth,283-(Oct+int(date[2:])))\n",
    "         else:\n",
    "           print(\"明年再說囉!\")\n",
    "    else:\n",
    "           print(\"明年再說囉!\")\n",
    "    break\n",
    "  else:\n",
    "    print(\"不存在這個日期，請回到上一步\")"
   ]
  },
  {
   "cell_type": "code",
   "execution_count": null,
   "metadata": {},
   "outputs": [],
   "source": []
  }
 ],
 "metadata": {
  "kernelspec": {
   "display_name": "Python 3",
   "language": "python",
   "name": "python3"
  },
  "language_info": {
   "codemirror_mode": {
    "name": "ipython",
    "version": 3
   },
   "file_extension": ".py",
   "mimetype": "text/x-python",
   "name": "python",
   "nbconvert_exporter": "python",
   "pygments_lexer": "ipython3",
   "version": "3.7.3"
  }
 },
 "nbformat": 4,
 "nbformat_minor": 2
}
