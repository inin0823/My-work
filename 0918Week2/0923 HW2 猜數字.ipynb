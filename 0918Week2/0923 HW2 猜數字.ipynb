{
 "cells": [
  {
   "cell_type": "code",
   "execution_count": 1,
   "metadata": {},
   "outputs": [
    {
     "name": "stdout",
     "output_type": "stream",
     "text": [
      "請輸入兩位數字:20\n",
      "1B\n",
      "請輸入兩位數字:02\n",
      "1A\n",
      "請輸入兩位數字:06\n",
      "完全正確!!\n"
     ]
    }
   ],
   "source": [
    "import random,string\n",
    "R=''.join(random.choice(string.digits) for x in range(2))\n",
    "while(1):\n",
    "    N=input(\"請輸入兩位數字:\")\n",
    "    if N.isdecimal():\n",
    "        if len(N)==2:\n",
    "             if N==R:\n",
    "                print(\"完全正確!!\")\n",
    "                break\n",
    "             elif (N[0]==R[0] and N[1]!=R[1]) or (N[0]!=R[0] and N[1]==R[1]):\n",
    "                print(\"1A\")\n",
    "             elif N[0]==R[1] and N[1]==R[0]:\n",
    "                print(\"2B\")\n",
    "             elif N[0]==R[1] or N[1]==R[0]:\n",
    "                print(\"1B\")\n",
    "             else:\n",
    "                print(\"0A0B\")\n",
    "        else: print(\"請不要輸入\",len(N),\"位數字\")\n",
    "    else:\n",
    "        print(\"請輸入數字\")"
   ]
  },
  {
   "cell_type": "code",
   "execution_count": null,
   "metadata": {},
   "outputs": [],
   "source": []
  }
 ],
 "metadata": {
  "kernelspec": {
   "display_name": "Python 3",
   "language": "python",
   "name": "python3"
  },
  "language_info": {
   "codemirror_mode": {
    "name": "ipython",
    "version": 3
   },
   "file_extension": ".py",
   "mimetype": "text/x-python",
   "name": "python",
   "nbconvert_exporter": "python",
   "pygments_lexer": "ipython3",
   "version": "3.7.3"
  }
 },
 "nbformat": 4,
 "nbformat_minor": 2
}
