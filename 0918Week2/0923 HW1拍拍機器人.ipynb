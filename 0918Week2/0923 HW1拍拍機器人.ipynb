{
 "cells": [
  {
   "cell_type": "code",
   "execution_count": 3,
   "metadata": {},
   "outputs": [
    {
     "name": "stdout",
     "output_type": "stream",
     "text": [
      "孤單寂寞覺得冷嗎？？沒關係！讓我來陪你聊天！你今天想聊甚麼呢？事情好多做不完QQ\n",
      "٩(^ᴗ^)۶：GOGOGO\n",
      "還有什麼想說的嗎？但我沒有動力...\n",
      "٩(^ᴗ^)۶：拍拍\n",
      "還有什麼想說的嗎？謝謝你，但我不知道我還要不要繼續努力\n",
      "٩(^ᴗ^)۶：沒事的：）\n",
      "還有什麼想說的嗎？真的嗎?\n",
      "٩(^ᴗ^)۶：沒事的：）\n",
      "還有什麼想說的嗎？好吧!那我願意相信你一次\n",
      "٩(^ᴗ^)۶：GOGOGO\n",
      "還有什麼想說的嗎？恩恩好!我會加油的!\n",
      "٩(^ᴗ^)۶：加油!\n",
      "還有什麼想說的嗎？謝謝你今天陪我聊天，但有點晚了...我要洗洗睡了，改天聊~\n",
      "88!希望今天我們聊得愉快^_^\n"
     ]
    }
   ],
   "source": [
    "import random\n",
    "a=input(\"孤單寂寞覺得冷嗎？？沒關係！讓我來陪你聊天！你今天想聊甚麼呢？\")\n",
    "while a!=\" \":\n",
    "        print(\"٩(^ᴗ^)۶：\",end=\"\")\n",
    "        print(random.choice([\"沒事的：）\",\"加油!\",\"GOGOGO\",\"拍拍\"]))\n",
    "        b=input(\"還有什麼想說的嗎？\")\n",
    "        if \"洗洗睡\" in b:\n",
    "            print(\"88!希望今天我們聊得愉快^_^\")\n",
    "            break"
   ]
  },
  {
   "cell_type": "markdown",
   "metadata": {},
   "source": []
  }
 ],
 "metadata": {
  "kernelspec": {
   "display_name": "Python 3",
   "language": "python",
   "name": "python3"
  },
  "language_info": {
   "codemirror_mode": {
    "name": "ipython",
    "version": 3
   },
   "file_extension": ".py",
   "mimetype": "text/x-python",
   "name": "python",
   "nbconvert_exporter": "python",
   "pygments_lexer": "ipython3",
   "version": "3.7.3"
  }
 },
 "nbformat": 4,
 "nbformat_minor": 2
}
