{
 "cells": [
  {
   "cell_type": "code",
   "execution_count": 1,
   "metadata": {},
   "outputs": [
    {
     "name": "stdout",
     "output_type": "stream",
     "text": [
      "請問今天帶多少錢(本金)來玩比大小遊戲:10000\n",
      "第1局比大小要賭多少錢(欲結束請輸入0):2000\n",
      "賭大或賭小(ex:大、小):大\n",
      "您輸了！還剩8000元\n",
      "第2局比大小要賭多少錢(欲結束請輸入0):8000\n",
      "賭大或賭小(ex:大、小):小\n",
      "您輸了！還剩0元\n",
      "您以破產QQ！今天的勝率為0.0\n"
     ]
    }
   ],
   "source": [
    "while 1:\n",
    "    totalmoney=input(\"請問今天帶多少錢(本金)來玩比大小遊戲:\")\n",
    "    if totalmoney.isdecimal():\n",
    "        break\n",
    "int_totalmoney=int(totalmoney)\n",
    "item=1\n",
    "win=0\n",
    "while 1:\n",
    "    if int_totalmoney>0:\n",
    "        money=input(\"第\"+str(item)+\"局比大小要賭多少錢(欲結束請輸入0):\")\n",
    "        import random\n",
    "        number1=random.randint(1,6)\n",
    "        number2=random.randint(1,6)\n",
    "        number3=random.randint(1,6)\n",
    "        totalnumber=number1+number2+number3\n",
    "        if money!=\"0\":\n",
    "            if money.isdecimal() and int(money)<=int_totalmoney:\n",
    "                big_small=input(\"賭大或賭小(ex:大、小):\")\n",
    "                if big_small==\"小\":\n",
    "                    if 3<=totalnumber<=10:\n",
    "                        int_totalmoney+=int(money)*2\n",
    "                        print(\"您獲勝了！目前有\",int_totalmoney,\"元\",sep=\"\")\n",
    "                        win+=1\n",
    "                    elif 11<=totalnumber<=18:\n",
    "                        int_totalmoney-=int(money)\n",
    "                        print(\"您輸了！還剩\",int_totalmoney,\"元\",sep=\"\")\n",
    "                if big_small==\"大\":\n",
    "                    if 3<=totalnumber<=10:\n",
    "                        int_totalmoney-=int(money)\n",
    "                        print(\"您輸了！還剩\",int_totalmoney,\"元\",sep=\"\")\n",
    "                    elif 11<=totalnumber<=18:\n",
    "                        int_totalmoney+=int(money)*2\n",
    "                        print(\"您獲勝了！目前有\",int_totalmoney,\"元\",sep=\"\")\n",
    "                        win+=1\n",
    "                item+=1\n",
    "            else:\n",
    "                print(\"輸入錯誤，再在輸入一遍\")\n",
    "                continue\n",
    "        elif money==\"0\":\n",
    "            print(\"輸入結束！今天的勝率為\",win/item,\"，共可以帶走\",int_totalmoney,\"元\",sep=\"\")\n",
    "\n",
    "            break\n",
    "    else:\n",
    "        print(\"您以破產QQ！今天的勝率為\",win/item ,sep=\"\")\n",
    "        break"
   ]
  },
  {
   "cell_type": "code",
   "execution_count": null,
   "metadata": {},
   "outputs": [],
   "source": []
  }
 ],
 "metadata": {
  "kernelspec": {
   "display_name": "Python 3",
   "language": "python",
   "name": "python3"
  },
  "language_info": {
   "codemirror_mode": {
    "name": "ipython",
    "version": 3
   },
   "file_extension": ".py",
   "mimetype": "text/x-python",
   "name": "python",
   "nbconvert_exporter": "python",
   "pygments_lexer": "ipython3",
   "version": "3.7.3"
  }
 },
 "nbformat": 4,
 "nbformat_minor": 2
}
