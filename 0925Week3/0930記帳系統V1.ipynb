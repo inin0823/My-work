{
 "cells": [
  {
   "cell_type": "markdown",
   "metadata": {},
   "source": [
    "# HW1－記帳系統V1"
   ]
  },
  {
   "cell_type": "code",
   "execution_count": 1,
   "metadata": {},
   "outputs": [
    {
     "name": "stdout",
     "output_type": "stream",
     "text": [
      "請問您目前擁有多少錢?1000\n",
      "您要登記收入還是支出（欲結束請輸入0）?\n",
      "貼心小提醒：收入請用I，支出請用E :I\n",
      "請輸入金額：200\n",
      "您要登記收入還是支出（欲結束請輸入0）?\n",
      "貼心小提醒：收入請用I，支出請用E :E\n",
      "請輸入金額：500\n",
      "您要登記收入還是支出（欲結束請輸入0）?\n",
      "貼心小提醒：收入請用I，支出請用E :0\n",
      "謝謝您的使用!您目前帳戶擁有:700元\n"
     ]
    }
   ],
   "source": [
    "initial_money=input(\"請問您目前擁有多少錢?\")\n",
    "income=[]\n",
    "expense=[]\n",
    "correctinput=[\"0\",\"I\",\"E\"]\n",
    "while 1:\n",
    "    income_or_expense=input(\"您要登記收入還是支出（欲結束請輸入0）?\\n貼心小提醒：收入請用I，支出請用E :\")\n",
    "    if income_or_expense not in correctinput:\n",
    "        print(\"您輸入的型式錯誤QQ請重新輸入\")\n",
    "    else:\n",
    "        if income_or_expense==\"0\":\n",
    "            for i in income:\n",
    "                total_money=int(initial_money)+int(i)\n",
    "            for j in expense:\n",
    "                total_money-=int(j)\n",
    "            print(\"謝謝您的使用!您目前帳戶擁有:\",total_money,\"元\",sep=\"\")\n",
    "            break\n",
    "        elif income_or_expense==\"I\"or\"E\":\n",
    "            item=input(\"請輸入金額：\")\n",
    "            if income_or_expense==\"I\":\n",
    "                income.append(item)\n",
    "            elif income_or_expense==\"E\":\n",
    "                expense.append(item)"
   ]
  },
  {
   "cell_type": "code",
   "execution_count": null,
   "metadata": {},
   "outputs": [],
   "source": []
  },
  {
   "cell_type": "code",
   "execution_count": null,
   "metadata": {},
   "outputs": [],
   "source": []
  }
 ],
 "metadata": {
  "kernelspec": {
   "display_name": "Python 3",
   "language": "python",
   "name": "python3"
  },
  "language_info": {
   "codemirror_mode": {
    "name": "ipython",
    "version": 3
   },
   "file_extension": ".py",
   "mimetype": "text/x-python",
   "name": "python",
   "nbconvert_exporter": "python",
   "pygments_lexer": "ipython3",
   "version": "3.7.4"
  }
 },
 "nbformat": 4,
 "nbformat_minor": 2
}
