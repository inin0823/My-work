{
 "cells": [
  {
   "cell_type": "markdown",
   "metadata": {},
   "source": [
    "# HW3－記帳系統V3（可以加入登記的時間點）"
   ]
  },
  {
   "cell_type": "code",
   "execution_count": 5,
   "metadata": {},
   "outputs": [
    {
     "name": "stdout",
     "output_type": "stream",
     "text": [
      "請問您目前擁有多少錢?1000\n",
      "您要登記收入還是支出?（欲結束請輸入0） △貼心小提醒：收入請用I，支出請用E :E\n",
      "1.食\n",
      "2.衣\n",
      "3.住\n",
      "4.行\n",
      "5.樂\n",
      "請輸入種類編號：1\n",
      "請輸入金額：150\n",
      "您要登記收入還是支出?（欲結束請輸入0） △貼心小提醒：收入請用I，支出請用E :E\n",
      "1.食\n",
      "2.衣\n",
      "3.住\n",
      "4.行\n",
      "5.樂\n",
      "請輸入種類編號：4\n",
      "請輸入金額：30\n",
      "您要登記收入還是支出?（欲結束請輸入0） △貼心小提醒：收入請用I，支出請用E :E\n",
      "1.食\n",
      "2.衣\n",
      "3.住\n",
      "4.行\n",
      "5.樂\n",
      "請輸入種類編號：5\n",
      "請輸入金額：120\n",
      "您要登記收入還是支出?（欲結束請輸入0） △貼心小提醒：收入請用I，支出請用E :0\n",
      "您目前帳戶擁有:700元\n",
      "是否想查詢收支細項?（請以Y或N輸入）Y\n",
      "收入細項為:\n",
      "支出細項為:\n",
      "1.2019-09-30 18:24:08食->120元\n",
      "2.2019-09-30 18:24:11行->120元\n",
      "3.2019-09-30 18:24:17樂->120元\n",
      "謝謝您的使用!\n"
     ]
    }
   ],
   "source": [
    "import datetime\n",
    "initial_money=input(\"請問您目前擁有多少錢?\")\n",
    "income=[]\n",
    "expense=[]\n",
    "correctinput=[\"0\",\"I\",\"E\"]\n",
    "correct_kind_input=[\"1\",\"2\",\"3\",\"4\",\"5\"]\n",
    "income_item={}\n",
    "expense_item={}\n",
    "kind_dic={\"1\":\"食\",\"2\":\"衣\",\"3\":\"住\",\"4\":\"行\",\"5\":\"樂\"}\n",
    "total_money=int(initial_money)\n",
    "while 1:\n",
    "    income_or_expense=input(\"您要登記收入還是支出?（欲結束請輸入0） △貼心小提醒：收入請用I，支出請用E :\")\n",
    "    ISOTIMEFORMAT = '%Y-%m-%d %H:%M:%S'\n",
    "    theTime = datetime.datetime.now().strftime(ISOTIMEFORMAT)\n",
    "    if income_or_expense not in correctinput:\n",
    "        print(\"您輸入的型式錯誤QQ請重新輸入\")\n",
    "    else:\n",
    "        if income_or_expense==\"0\":\n",
    "            for i in income:\n",
    "                total_money+=int(i)\n",
    "            for j in expense:\n",
    "                total_money-=int(j)\n",
    "            print(\"您目前帳戶擁有:\",total_money,\"元\",sep=\"\")\n",
    "            break\n",
    "        elif income_or_expense==\"I\"or\"E\":\n",
    "            while 1:\n",
    "                kind=input(\"1.食\\n2.衣\\n3.住\\n4.行\\n5.樂\\n請輸入種類編號：\")\n",
    "                if kind in correct_kind_input:\n",
    "                    item=input(\"請輸入金額：\")\n",
    "                    if income_or_expense==\"I\":                       \n",
    "                        income.append(item)\n",
    "                        income_item[theTime+kind_dic[kind]]=(item+\"元\")\n",
    "                        break\n",
    "                    elif income_or_expense==\"E\":\n",
    "                        expense_item[theTime+kind_dic[kind]]=(item+\"元\")\n",
    "                        expense.append(item)\n",
    "                        break\n",
    "                else:\n",
    "                    print(\"輸入錯誤!請重新輸入QQ\")\n",
    "def search_function(x):\n",
    "    if x==\"Y\":\n",
    "        a=0\n",
    "        print(\"收入細項為:\")\n",
    "        for i in income_item:\n",
    "            a+=1\n",
    "            print(a,\".\",i,\"->\",income[a-1],\"元\",sep=\"\")\n",
    "        b=0\n",
    "        print(\"支出細項為:\")\n",
    "        for j in expense_item:\n",
    "            b+=1\n",
    "            print(b,\".\",j,\"->\",expense[a-1],\"元\",sep=\"\")\n",
    "        print(\"謝謝您的使用!\")\n",
    "    if x==\"N\":\n",
    "        print(\"謝謝您的使用!\")\n",
    "while 1:\n",
    "    YN=input(\"是否想查詢收支細項?（請以Y或N輸入）\")\n",
    "    if YN==\"Y\"or\"N\":\n",
    "        search_function(YN)\n",
    "        break\n",
    "    else:\n",
    "        print(\"輸入錯誤!請重新輸入\")"
   ]
  },
  {
   "cell_type": "code",
   "execution_count": null,
   "metadata": {},
   "outputs": [],
   "source": []
  }
 ],
 "metadata": {
  "kernelspec": {
   "display_name": "Python 3",
   "language": "python",
   "name": "python3"
  },
  "language_info": {
   "codemirror_mode": {
    "name": "ipython",
    "version": 3
   },
   "file_extension": ".py",
   "mimetype": "text/x-python",
   "name": "python",
   "nbconvert_exporter": "python",
   "pygments_lexer": "ipython3",
   "version": "3.7.3"
  }
 },
 "nbformat": 4,
 "nbformat_minor": 2
}
