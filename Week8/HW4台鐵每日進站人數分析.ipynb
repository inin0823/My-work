{
 "cells": [
  {
   "cell_type": "markdown",
   "metadata": {},
   "source": [
    "# HW4-台鐵每日進站人數分析"
   ]
  },
  {
   "cell_type": "code",
   "execution_count": 26,
   "metadata": {},
   "outputs": [
    {
     "data": {
      "text/html": [
       "<div>\n",
       "<style scoped>\n",
       "    .dataframe tbody tr th:only-of-type {\n",
       "        vertical-align: middle;\n",
       "    }\n",
       "\n",
       "    .dataframe tbody tr th {\n",
       "        vertical-align: top;\n",
       "    }\n",
       "\n",
       "    .dataframe thead th {\n",
       "        text-align: right;\n",
       "    }\n",
       "</style>\n",
       "<table border=\"1\" class=\"dataframe\">\n",
       "  <thead>\n",
       "    <tr style=\"text-align: right;\">\n",
       "      <th></th>\n",
       "      <th>trnOpDate</th>\n",
       "      <th>staCode</th>\n",
       "      <th>gateInComingCnt</th>\n",
       "      <th>gateOutGoingCnt</th>\n",
       "    </tr>\n",
       "  </thead>\n",
       "  <tbody>\n",
       "    <tr>\n",
       "      <td>0</td>\n",
       "      <td>20190424</td>\n",
       "      <td>900</td>\n",
       "      <td>7565</td>\n",
       "      <td>6971</td>\n",
       "    </tr>\n",
       "    <tr>\n",
       "      <td>1</td>\n",
       "      <td>20190424</td>\n",
       "      <td>910</td>\n",
       "      <td>1431</td>\n",
       "      <td>1492</td>\n",
       "    </tr>\n",
       "    <tr>\n",
       "      <td>2</td>\n",
       "      <td>20190424</td>\n",
       "      <td>920</td>\n",
       "      <td>2630</td>\n",
       "      <td>2329</td>\n",
       "    </tr>\n",
       "    <tr>\n",
       "      <td>3</td>\n",
       "      <td>20190424</td>\n",
       "      <td>930</td>\n",
       "      <td>6112</td>\n",
       "      <td>6345</td>\n",
       "    </tr>\n",
       "    <tr>\n",
       "      <td>4</td>\n",
       "      <td>20190424</td>\n",
       "      <td>940</td>\n",
       "      <td>2785</td>\n",
       "      <td>2741</td>\n",
       "    </tr>\n",
       "  </tbody>\n",
       "</table>\n",
       "</div>"
      ],
      "text/plain": [
       "   trnOpDate  staCode  gateInComingCnt  gateOutGoingCnt\n",
       "0   20190424      900             7565             6971\n",
       "1   20190424      910             1431             1492\n",
       "2   20190424      920             2630             2329\n",
       "3   20190424      930             6112             6345\n",
       "4   20190424      940             2785             2741"
      ]
     },
     "execution_count": 26,
     "metadata": {},
     "output_type": "execute_result"
    }
   ],
   "source": [
    "%matplotlib inline\n",
    "import numpy as np\n",
    "import matplotlib.pyplot as plt\n",
    "import pandas as pd\n",
    "df = pd.read_csv('https://quality.data.gov.tw/dq_download_csv.php?nid=8792&md5_url=0b058a051a852e78cbafdc6b0a8b8821')\n",
    "df.head()"
   ]
  },
  {
   "cell_type": "markdown",
   "metadata": {},
   "source": [
    "## 台鐵進站人數最多的時間和車站->雙十連假在台北\n"
   ]
  },
  {
   "cell_type": "code",
   "execution_count": 27,
   "metadata": {},
   "outputs": [
    {
     "data": {
      "text/html": [
       "<div>\n",
       "<style scoped>\n",
       "    .dataframe tbody tr th:only-of-type {\n",
       "        vertical-align: middle;\n",
       "    }\n",
       "\n",
       "    .dataframe tbody tr th {\n",
       "        vertical-align: top;\n",
       "    }\n",
       "\n",
       "    .dataframe thead th {\n",
       "        text-align: right;\n",
       "    }\n",
       "</style>\n",
       "<table border=\"1\" class=\"dataframe\">\n",
       "  <thead>\n",
       "    <tr style=\"text-align: right;\">\n",
       "      <th></th>\n",
       "      <th>trnOpDate</th>\n",
       "      <th>staCode</th>\n",
       "      <th>gateInComingCnt</th>\n",
       "      <th>gateOutGoingCnt</th>\n",
       "    </tr>\n",
       "  </thead>\n",
       "  <tbody>\n",
       "    <tr>\n",
       "      <td>42004</td>\n",
       "      <td>20191010</td>\n",
       "      <td>1000</td>\n",
       "      <td>87020</td>\n",
       "      <td>73207</td>\n",
       "    </tr>\n",
       "    <tr>\n",
       "      <td>40099</td>\n",
       "      <td>20191011</td>\n",
       "      <td>1000</td>\n",
       "      <td>83930</td>\n",
       "      <td>78633</td>\n",
       "    </tr>\n",
       "    <tr>\n",
       "      <td>32721</td>\n",
       "      <td>20190912</td>\n",
       "      <td>1000</td>\n",
       "      <td>83752</td>\n",
       "      <td>71323</td>\n",
       "    </tr>\n",
       "    <tr>\n",
       "      <td>39861</td>\n",
       "      <td>20191009</td>\n",
       "      <td>1000</td>\n",
       "      <td>80004</td>\n",
       "      <td>72499</td>\n",
       "    </tr>\n",
       "    <tr>\n",
       "      <td>30110</td>\n",
       "      <td>20190816</td>\n",
       "      <td>1000</td>\n",
       "      <td>78481</td>\n",
       "      <td>74835</td>\n",
       "    </tr>\n",
       "  </tbody>\n",
       "</table>\n",
       "</div>"
      ],
      "text/plain": [
       "       trnOpDate  staCode  gateInComingCnt  gateOutGoingCnt\n",
       "42004   20191010     1000            87020            73207\n",
       "40099   20191011     1000            83930            78633\n",
       "32721   20190912     1000            83752            71323\n",
       "39861   20191009     1000            80004            72499\n",
       "30110   20190816     1000            78481            74835"
      ]
     },
     "execution_count": 27,
     "metadata": {},
     "output_type": "execute_result"
    }
   ],
   "source": [
    "df.sort_values(by=\"gateInComingCnt\",ascending= False).head()"
   ]
  },
  {
   "cell_type": "markdown",
   "metadata": {},
   "source": [
    "## 台鐵進站人數最少的時間和車站->最少前5名有3次在枋山"
   ]
  },
  {
   "cell_type": "code",
   "execution_count": 37,
   "metadata": {},
   "outputs": [
    {
     "data": {
      "text/html": [
       "<div>\n",
       "<style scoped>\n",
       "    .dataframe tbody tr th:only-of-type {\n",
       "        vertical-align: middle;\n",
       "    }\n",
       "\n",
       "    .dataframe tbody tr th {\n",
       "        vertical-align: top;\n",
       "    }\n",
       "\n",
       "    .dataframe thead th {\n",
       "        text-align: right;\n",
       "    }\n",
       "</style>\n",
       "<table border=\"1\" class=\"dataframe\">\n",
       "  <thead>\n",
       "    <tr style=\"text-align: right;\">\n",
       "      <th></th>\n",
       "      <th>trnOpDate</th>\n",
       "      <th>staCode</th>\n",
       "      <th>gateInComingCnt</th>\n",
       "      <th>gateOutGoingCnt</th>\n",
       "    </tr>\n",
       "  </thead>\n",
       "  <tbody>\n",
       "    <tr>\n",
       "      <td>2774</td>\n",
       "      <td>20190512</td>\n",
       "      <td>5160</td>\n",
       "      <td>0</td>\n",
       "      <td>2</td>\n",
       "    </tr>\n",
       "    <tr>\n",
       "      <td>30971</td>\n",
       "      <td>20190827</td>\n",
       "      <td>5140</td>\n",
       "      <td>0</td>\n",
       "      <td>2</td>\n",
       "    </tr>\n",
       "    <tr>\n",
       "      <td>1109</td>\n",
       "      <td>20190502</td>\n",
       "      <td>5160</td>\n",
       "      <td>0</td>\n",
       "      <td>2</td>\n",
       "    </tr>\n",
       "    <tr>\n",
       "      <td>35607</td>\n",
       "      <td>20190926</td>\n",
       "      <td>5160</td>\n",
       "      <td>0</td>\n",
       "      <td>2</td>\n",
       "    </tr>\n",
       "    <tr>\n",
       "      <td>16467</td>\n",
       "      <td>20190629</td>\n",
       "      <td>5130</td>\n",
       "      <td>0</td>\n",
       "      <td>3</td>\n",
       "    </tr>\n",
       "  </tbody>\n",
       "</table>\n",
       "</div>"
      ],
      "text/plain": [
       "       trnOpDate  staCode  gateInComingCnt  gateOutGoingCnt\n",
       "2774    20190512     5160                0                2\n",
       "30971   20190827     5140                0                2\n",
       "1109    20190502     5160                0                2\n",
       "35607   20190926     5160                0                2\n",
       "16467   20190629     5130                0                3"
      ]
     },
     "execution_count": 37,
     "metadata": {},
     "output_type": "execute_result"
    }
   ],
   "source": [
    "df.sort_values(by=\"gateInComingCnt\",ascending= False).tail()"
   ]
  },
  {
   "cell_type": "markdown",
   "metadata": {},
   "source": [
    "## 台鐵從2019/4/24-10/27的總進出站量"
   ]
  },
  {
   "cell_type": "code",
   "execution_count": 36,
   "metadata": {},
   "outputs": [
    {
     "data": {
      "text/plain": [
       "gateInComingCnt    124517920\n",
       "gateOutGoingCnt    124517920\n",
       "dtype: int64"
      ]
     },
     "execution_count": 36,
     "metadata": {},
     "output_type": "execute_result"
    }
   ],
   "source": [
    "df.loc[:,\"gateInComingCnt\":\"gateOutGoingCnt\"].sum(axis=0)"
   ]
  },
  {
   "cell_type": "code",
   "execution_count": null,
   "metadata": {},
   "outputs": [],
   "source": []
  }
 ],
 "metadata": {
  "kernelspec": {
   "display_name": "Python 3",
   "language": "python",
   "name": "python3"
  },
  "language_info": {
   "codemirror_mode": {
    "name": "ipython",
    "version": 3
   },
   "file_extension": ".py",
   "mimetype": "text/x-python",
   "name": "python",
   "nbconvert_exporter": "python",
   "pygments_lexer": "ipython3",
   "version": "3.7.4"
  }
 },
 "nbformat": 4,
 "nbformat_minor": 2
}
