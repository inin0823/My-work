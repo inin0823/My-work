{
 "cells": [
  {
   "cell_type": "markdown",
   "metadata": {},
   "source": [
    "# HW1 到底活了多久呢??（簡單版）"
   ]
  },
  {
   "cell_type": "code",
   "execution_count": 1,
   "metadata": {},
   "outputs": [
    {
     "name": "stdout",
     "output_type": "stream",
     "text": [
      "我到今天為止已生活了19年又50天\n"
     ]
    }
   ],
   "source": [
    "from datetime import *\n",
    "bd=date(2000,8,23)  \n",
    "td=date.today()  \n",
    "diff=td-bd\n",
    "year=(diff.days)//365\n",
    "day=(diff.days)%365\n",
    "print(\"我到今天為止已生活了\",year,\"年又\",day,\"天\",sep=\"\")  "
   ]
  },
  {
   "cell_type": "markdown",
   "metadata": {},
   "source": [
    "# HW2 確認是否為浮點數"
   ]
  },
  {
   "cell_type": "code",
   "execution_count": 2,
   "metadata": {},
   "outputs": [
    {
     "name": "stdout",
     "output_type": "stream",
     "text": [
      "輸入一個可以成功轉為浮點數的資料:inin\n",
      "輸入資料有錯誤，請重新輸入一個可以成功轉為浮點數的資料:20\n",
      "輸入的資料可以成功轉為浮點數 20.0\n"
     ]
    }
   ],
   "source": [
    "def check_float(num):\n",
    "    try:\n",
    "        float(num)\n",
    "    except:   \n",
    "        result=False                   #有發生例外時，將變數result的內容設為False\n",
    "    else:\n",
    "        result=True                    #沒有發生例外時，將變數result的內容設為True\n",
    "    finally:\n",
    "        return result                  #不管有沒有發生例外，最後都將result的內容回傳\n",
    "\n",
    "\n",
    "while True:\n",
    "    a=input('輸入一個可以成功轉為浮點數的資料:')\n",
    "    if (not check_float(a)):\n",
    "        print('輸入資料有錯誤，請重新', end='')\n",
    "        continue\n",
    "    else:\n",
    "        print('輸入的資料可以成功轉為浮點數', float(a))\n",
    "        break\n"
   ]
  },
  {
   "cell_type": "markdown",
   "metadata": {},
   "source": [
    "# HW3 確認是否為整數"
   ]
  },
  {
   "cell_type": "code",
   "execution_count": 3,
   "metadata": {},
   "outputs": [
    {
     "name": "stdout",
     "output_type": "stream",
     "text": [
      "輸入一個可以成功轉為整數的資料:123\n",
      "輸入的資料可以成功轉為整數 123\n"
     ]
    }
   ],
   "source": [
    "def check_int(num):\n",
    "    try:\n",
    "        int(num)\n",
    "    except:   \n",
    "        result=False                   #有發生例外時，將變數result的內容設為False\n",
    "    else:\n",
    "        result=True                    #沒有發生例外時，將變數result的內容設為True\n",
    "    finally:\n",
    "        return result                  #不管有沒有發生例外，最後都將result的內容回傳\n",
    "\n",
    "while True:\n",
    "    b=input('輸入一個可以成功轉為整數的資料:')\n",
    "    if (not check_int(b)):\n",
    "        print('輸入資料有錯誤，請重新', end='')\n",
    "        continue\n",
    "    else:\n",
    "        print('輸入的資料可以成功轉為整數', int(b))\n",
    "        \n",
    "        break"
   ]
  },
  {
   "cell_type": "markdown",
   "metadata": {},
   "source": [
    "# HW4 卜卦象"
   ]
  },
  {
   "cell_type": "code",
   "execution_count": null,
   "metadata": {},
   "outputs": [],
   "source": []
  }
 ],
 "metadata": {
  "kernelspec": {
   "display_name": "Python 3",
   "language": "python",
   "name": "python3"
  },
  "language_info": {
   "codemirror_mode": {
    "name": "ipython",
    "version": 3
   },
   "file_extension": ".py",
   "mimetype": "text/x-python",
   "name": "python",
   "nbconvert_exporter": "python",
   "pygments_lexer": "ipython3",
   "version": "3.7.3"
  }
 },
 "nbformat": 4,
 "nbformat_minor": 2
}
