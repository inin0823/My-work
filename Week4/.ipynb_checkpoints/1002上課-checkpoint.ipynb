{
 "cells": [
  {
   "cell_type": "code",
   "execution_count": null,
   "metadata": {},
   "outputs": [],
   "source": [
    "%matplotlib inline\n",
    "import numpy as np\n",
    "import matplotlib.pyplot as plt\n",
    "import pandas as pd"
   ]
  },
  {
   "cell_type": "code",
   "execution_count": null,
   "metadata": {},
   "outputs": [],
   "source": [
    "for i in range(10):\n",
    "    print(randint(1,10),end=\",\")"
   ]
  },
  {
   "cell_type": "code",
   "execution_count": 13,
   "metadata": {},
   "outputs": [],
   "source": [
    "words='''\n",
    "我\n",
    "我的\n",
    "妳\n",
    "妳的\n",
    "心\n",
    "溫柔\n",
    "日子\n",
    "雨\n",
    "風\n",
    "天空\n",
    "雲\n",
    "等待\n",
    "哭泣\n",
    "戀愛\n",
    "相遇\n",
    "分離\n",
    "忘記\n",
    "心醉\n",
    "驀然\n",
    "吹過\n",
    "思念\n",
    "靈魂\n",
    "停止'''"
   ]
  },
  {
   "cell_type": "code",
   "execution_count": 14,
   "metadata": {},
   "outputs": [
    {
     "data": {
      "text/plain": [
       "'\\n我\\n我的\\n妳\\n妳的\\n心\\n溫柔\\n日子\\n雨\\n風\\n天空\\n雲\\n等待\\n哭泣\\n戀愛\\n相遇\\n分離\\n忘記\\n心醉\\n驀然\\n吹過\\n思念\\n靈魂\\n停止'"
      ]
     },
     "execution_count": 14,
     "metadata": {},
     "output_type": "execute_result"
    }
   ],
   "source": [
    "words"
   ]
  },
  {
   "cell_type": "code",
   "execution_count": 19,
   "metadata": {},
   "outputs": [],
   "source": [
    "phrase=words.split(\"\\n\")"
   ]
  },
  {
   "cell_type": "code",
   "execution_count": 21,
   "metadata": {},
   "outputs": [
    {
     "data": {
      "text/plain": [
       "['',\n",
       " '我',\n",
       " '我的',\n",
       " '妳',\n",
       " '妳的',\n",
       " '心',\n",
       " '溫柔',\n",
       " '日子',\n",
       " '雨',\n",
       " '風',\n",
       " '天空',\n",
       " '雲',\n",
       " '等待',\n",
       " '哭泣',\n",
       " '戀愛',\n",
       " '相遇',\n",
       " '分離',\n",
       " '忘記',\n",
       " '心醉',\n",
       " '驀然',\n",
       " '吹過',\n",
       " '思念',\n",
       " '靈魂',\n",
       " '停止']"
      ]
     },
     "execution_count": 21,
     "metadata": {},
     "output_type": "execute_result"
    }
   ],
   "source": [
    "phrase"
   ]
  },
  {
   "cell_type": "code",
   "execution_count": 27,
   "metadata": {},
   "outputs": [],
   "source": [
    "from numpy.random import choice"
   ]
  },
  {
   "cell_type": "code",
   "execution_count": 29,
   "metadata": {},
   "outputs": [
    {
     "data": {
      "text/plain": [
       "array(['分離', '戀愛', '吹過', '吹過', '靈魂'], dtype='<U2')"
      ]
     },
     "execution_count": 29,
     "metadata": {},
     "output_type": "execute_result"
    }
   ],
   "source": [
    "choice(phrase,5)"
   ]
  },
  {
   "cell_type": "code",
   "execution_count": 31,
   "metadata": {},
   "outputs": [
    {
     "data": {
      "text/plain": [
       "array(['忘記', '風', '靈魂', '戀愛', '哭泣'], dtype='<U2')"
      ]
     },
     "execution_count": 31,
     "metadata": {},
     "output_type": "execute_result"
    }
   ],
   "source": [
    "np.random.choice(phrase,5)"
   ]
  },
  {
   "cell_type": "code",
   "execution_count": 36,
   "metadata": {},
   "outputs": [
    {
     "name": "stdout",
     "output_type": "stream",
     "text": [
      "*\n",
      "*\n",
      "*\n"
     ]
    }
   ],
   "source": [
    "l=randint(3,6)\n",
    "for i in range(l):\n",
    "    print(\"*\")"
   ]
  },
  {
   "cell_type": "code",
   "execution_count": 46,
   "metadata": {},
   "outputs": [],
   "source": [
    "ll=randint(5,8)\n",
    "egg=choice(phrase,ll)"
   ]
  },
  {
   "cell_type": "code",
   "execution_count": 47,
   "metadata": {},
   "outputs": [
    {
     "data": {
      "text/plain": [
       "array(['吹過', '靈魂', '雨', '靈魂', '', '等待', '分離'], dtype='<U2')"
      ]
     },
     "execution_count": 47,
     "metadata": {},
     "output_type": "execute_result"
    }
   ],
   "source": [
    "egg"
   ]
  },
  {
   "cell_type": "code",
   "execution_count": 48,
   "metadata": {},
   "outputs": [
    {
     "data": {
      "text/plain": [
       "'吹過 靈魂 雨 靈魂  等待 分離'"
      ]
     },
     "execution_count": 48,
     "metadata": {},
     "output_type": "execute_result"
    }
   ],
   "source": [
    "\" \".join(egg)"
   ]
  },
  {
   "cell_type": "code",
   "execution_count": null,
   "metadata": {},
   "outputs": [],
   "source": []
  }
 ],
 "metadata": {
  "kernelspec": {
   "display_name": "Python 3",
   "language": "python",
   "name": "python3"
  },
  "language_info": {
   "codemirror_mode": {
    "name": "ipython",
    "version": 3
   },
   "file_extension": ".py",
   "mimetype": "text/x-python",
   "name": "python",
   "nbconvert_exporter": "python",
   "pygments_lexer": "ipython3",
   "version": "3.7.4"
  }
 },
 "nbformat": 4,
 "nbformat_minor": 2
}
