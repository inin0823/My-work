{
 "cells": [
  {
   "cell_type": "markdown",
   "metadata": {},
   "source": [
    "# HW3 計算打折後的價格\n",
    "## 購買金額大於10000 ->55折\n",
    "## 購買金額大於5000 ->6折\n",
    "## 購買金額大於2000 ->7折"
   ]
  },
  {
   "cell_type": "code",
   "execution_count": 1,
   "metadata": {},
   "outputs": [
    {
     "name": "stdout",
     "output_type": "stream",
     "text": [
      "請輸入顧客購買的金額(輸入0則離開程式):1000\n",
      "此顧客實際應付金額為1000元\n",
      "請輸入顧客購買的金額(輸入0則離開程式):100000\n",
      "打55折\n",
      "此顧客實際應付金額為55000元\n",
      "請輸入顧客購買的金額(輸入0則離開程式):563002\n",
      "打55折\n",
      "此顧客實際應付金額為309651元\n",
      "請輸入顧客購買的金額(輸入0則離開程式):2233\n",
      "打7折\n",
      "此顧客實際應付金額為1563元\n",
      "請輸入顧客購買的金額(輸入0則離開程式):0\n",
      "感謝您的使用:)\n",
      "\n"
     ]
    }
   ],
   "source": [
    "while(1):\n",
    "    M=input(\"請輸入顧客購買的金額(輸入0則離開程式):\")\n",
    "    if M==\"0\":\n",
    "        print(\"感謝您的使用:)\\n\")\n",
    "        break\n",
    "    if M.isdecimal():\n",
    "        if int(M)>=10000:\n",
    "            print(\"打55折\")\n",
    "            m=int(M)*0.55\n",
    "        elif int(M)>=5000:\n",
    "            print(\"打6折\")\n",
    "            m=int(M)*0.6\n",
    "        elif int(M)>=2000:\n",
    "            print(\"打7折\")\n",
    "            m=int(M)*0.7\n",
    "        elif int(M)<2000:\n",
    "            m=int(M)\n",
    "        print(\"此顧客實際應付金額為%d元\"%round(m))\n",
    "    else: print(\"輸入的資料格式有誤!\")\n",
    "\n"
   ]
  },
  {
   "cell_type": "code",
   "execution_count": null,
   "metadata": {},
   "outputs": [],
   "source": []
  }
 ],
 "metadata": {
  "kernelspec": {
   "display_name": "Python 3",
   "language": "python",
   "name": "python3"
  },
  "language_info": {
   "codemirror_mode": {
    "name": "ipython",
    "version": 3
   },
   "file_extension": ".py",
   "mimetype": "text/x-python",
   "name": "python",
   "nbconvert_exporter": "python",
   "pygments_lexer": "ipython3",
   "version": "3.7.3"
  }
 },
 "nbformat": 4,
 "nbformat_minor": 2
}
