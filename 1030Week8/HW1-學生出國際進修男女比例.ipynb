{
 "cells": [
  {
   "cell_type": "markdown",
   "metadata": {},
   "source": [
    "# HW1-學生出國際進修男女比例"
   ]
  },
  {
   "cell_type": "code",
   "execution_count": 8,
   "metadata": {},
   "outputs": [
    {
     "data": {
      "text/html": [
       "<div>\n",
       "<style scoped>\n",
       "    .dataframe tbody tr th:only-of-type {\n",
       "        vertical-align: middle;\n",
       "    }\n",
       "\n",
       "    .dataframe tbody tr th {\n",
       "        vertical-align: top;\n",
       "    }\n",
       "\n",
       "    .dataframe thead th {\n",
       "        text-align: right;\n",
       "    }\n",
       "</style>\n",
       "<table border=\"1\" class=\"dataframe\">\n",
       "  <thead>\n",
       "    <tr style=\"text-align: right;\">\n",
       "      <th></th>\n",
       "      <th>學年度</th>\n",
       "      <th>學期（上學期為1；下學期為2）</th>\n",
       "      <th>設立別</th>\n",
       "      <th>學校類別</th>\n",
       "      <th>學校統計處代碼</th>\n",
       "      <th>學校名稱</th>\n",
       "      <th>系所代碼</th>\n",
       "      <th>系所名稱</th>\n",
       "      <th>學制班別(日間)</th>\n",
       "      <th>進修交流國家(地區)區域別</th>\n",
       "      <th>本國學生出國進修交流至少1學期(修讀學分)以上人數男</th>\n",
       "      <th>本國學生出國進修交流至少1學期(修讀學分)以上人數女</th>\n",
       "      <th>本國學生出國進修交流未滿1學期(修讀學分)人數男</th>\n",
       "      <th>本國學生出國進修交流未滿1學期(修讀學分)人數女</th>\n",
       "    </tr>\n",
       "  </thead>\n",
       "  <tbody>\n",
       "    <tr>\n",
       "      <td>0</td>\n",
       "      <td>105</td>\n",
       "      <td>1</td>\n",
       "      <td>公立</td>\n",
       "      <td>一般大學</td>\n",
       "      <td>1</td>\n",
       "      <td>國立政治大學</td>\n",
       "      <td>01111001</td>\n",
       "      <td>教育學系</td>\n",
       "      <td>學士班(日間)</td>\n",
       "      <td>大陸地區</td>\n",
       "      <td>0</td>\n",
       "      <td>1</td>\n",
       "      <td>0</td>\n",
       "      <td>0</td>\n",
       "    </tr>\n",
       "    <tr>\n",
       "      <td>1</td>\n",
       "      <td>105</td>\n",
       "      <td>1</td>\n",
       "      <td>公立</td>\n",
       "      <td>一般大學</td>\n",
       "      <td>1</td>\n",
       "      <td>國立政治大學</td>\n",
       "      <td>01111001</td>\n",
       "      <td>教育學系</td>\n",
       "      <td>博士班</td>\n",
       "      <td>大陸地區</td>\n",
       "      <td>1</td>\n",
       "      <td>0</td>\n",
       "      <td>0</td>\n",
       "      <td>0</td>\n",
       "    </tr>\n",
       "    <tr>\n",
       "      <td>2</td>\n",
       "      <td>105</td>\n",
       "      <td>1</td>\n",
       "      <td>公立</td>\n",
       "      <td>一般大學</td>\n",
       "      <td>1</td>\n",
       "      <td>國立政治大學</td>\n",
       "      <td>01111001</td>\n",
       "      <td>教育學系</td>\n",
       "      <td>學士班(日間)</td>\n",
       "      <td>歐洲</td>\n",
       "      <td>0</td>\n",
       "      <td>2</td>\n",
       "      <td>0</td>\n",
       "      <td>0</td>\n",
       "    </tr>\n",
       "    <tr>\n",
       "      <td>3</td>\n",
       "      <td>105</td>\n",
       "      <td>1</td>\n",
       "      <td>公立</td>\n",
       "      <td>一般大學</td>\n",
       "      <td>1</td>\n",
       "      <td>國立政治大學</td>\n",
       "      <td>01131002</td>\n",
       "      <td>華語文教學博士學位學程</td>\n",
       "      <td>博士班</td>\n",
       "      <td>東協</td>\n",
       "      <td>0</td>\n",
       "      <td>1</td>\n",
       "      <td>0</td>\n",
       "      <td>0</td>\n",
       "    </tr>\n",
       "    <tr>\n",
       "      <td>4</td>\n",
       "      <td>105</td>\n",
       "      <td>1</td>\n",
       "      <td>公立</td>\n",
       "      <td>一般大學</td>\n",
       "      <td>1</td>\n",
       "      <td>國立政治大學</td>\n",
       "      <td>01131002</td>\n",
       "      <td>華語文教學碩士學位學程</td>\n",
       "      <td>碩士班(日間)</td>\n",
       "      <td>歐洲</td>\n",
       "      <td>0</td>\n",
       "      <td>1</td>\n",
       "      <td>0</td>\n",
       "      <td>0</td>\n",
       "    </tr>\n",
       "  </tbody>\n",
       "</table>\n",
       "</div>"
      ],
      "text/plain": [
       "   學年度  學期（上學期為1；下學期為2） 設立別  學校類別  學校統計處代碼    學校名稱      系所代碼         系所名稱  \\\n",
       "0  105                1  公立  一般大學        1  國立政治大學  01111001         教育學系   \n",
       "1  105                1  公立  一般大學        1  國立政治大學  01111001         教育學系   \n",
       "2  105                1  公立  一般大學        1  國立政治大學  01111001         教育學系   \n",
       "3  105                1  公立  一般大學        1  國立政治大學  01131002  華語文教學博士學位學程   \n",
       "4  105                1  公立  一般大學        1  國立政治大學  01131002  華語文教學碩士學位學程   \n",
       "\n",
       "  學制班別(日間) 進修交流國家(地區)區域別  本國學生出國進修交流至少1學期(修讀學分)以上人數男  \\\n",
       "0  學士班(日間)          大陸地區                           0   \n",
       "1      博士班          大陸地區                           1   \n",
       "2  學士班(日間)            歐洲                           0   \n",
       "3      博士班            東協                           0   \n",
       "4  碩士班(日間)            歐洲                           0   \n",
       "\n",
       "   本國學生出國進修交流至少1學期(修讀學分)以上人數女  本國學生出國進修交流未滿1學期(修讀學分)人數男  \\\n",
       "0                           1                         0   \n",
       "1                           0                         0   \n",
       "2                           2                         0   \n",
       "3                           1                         0   \n",
       "4                           1                         0   \n",
       "\n",
       "   本國學生出國進修交流未滿1學期(修讀學分)人數女  \n",
       "0                         0  \n",
       "1                         0  \n",
       "2                         0  \n",
       "3                         0  \n",
       "4                         0  "
      ]
     },
     "execution_count": 8,
     "metadata": {},
     "output_type": "execute_result"
    }
   ],
   "source": [
    "%matplotlib inline\n",
    "import numpy as np\n",
    "import matplotlib.pyplot as plt\n",
    "import pandas as pd\n",
    "df = pd.read_csv('https://quality.data.gov.tw/dq_download_csv.php?nid=24730&md5_url=4aef269899d2f4463e178f4acbaede1f')\n",
    "df.head()"
   ]
  },
  {
   "cell_type": "code",
   "execution_count": 42,
   "metadata": {},
   "outputs": [
    {
     "data": {
      "text/plain": [
       "本國學生出國進修交流至少1學期(修讀學分)以上人數男     6697\n",
       "本國學生出國進修交流至少1學期(修讀學分)以上人數女    16478\n",
       "dtype: int64"
      ]
     },
     "execution_count": 42,
     "metadata": {},
     "output_type": "execute_result"
    }
   ],
   "source": [
    "df.loc[:,\"本國學生出國進修交流至少1學期(修讀學分)以上人數男\":\"本國學生出國進修交流至少1學期(修讀學分)以上人數女\"].sum(axis=0)"
   ]
  },
  {
   "cell_type": "code",
   "execution_count": 43,
   "metadata": {},
   "outputs": [
    {
     "data": {
      "text/plain": [
       "本國學生出國進修交流未滿1學期(修讀學分)人數男    2062\n",
       "本國學生出國進修交流未滿1學期(修讀學分)人數女    3586\n",
       "dtype: int64"
      ]
     },
     "execution_count": 43,
     "metadata": {},
     "output_type": "execute_result"
    }
   ],
   "source": [
    "df.loc[:,\"本國學生出國進修交流未滿1學期(修讀學分)人數男\":\"本國學生出國進修交流未滿1學期(修讀學分)人數女\"].sum(axis=0)"
   ]
  },
  {
   "cell_type": "code",
   "execution_count": 47,
   "metadata": {},
   "outputs": [
    {
     "name": "stdout",
     "output_type": "stream",
     "text": [
      "本國學生出國進修交流總人數(男): 8759\n",
      "本國學生出國進修交流總人數(男): 20064\n"
     ]
    }
   ],
   "source": [
    "a=df.loc[:,\"本國學生出國進修交流至少1學期(修讀學分)以上人數男\"].sum(axis=0)\n",
    "b=df.loc[:,\"本國學生出國進修交流未滿1學期(修讀學分)人數男\"].sum(axis=0)\n",
    "print(\"本國學生出國進修交流總人數(男):\",a+b)\n",
    "c=df.loc[:,\"本國學生出國進修交流至少1學期(修讀學分)以上人數女\"].sum(axis=0)\n",
    "d=df.loc[:,\"本國學生出國進修交流未滿1學期(修讀學分)人數女\"].sum(axis=0)\n",
    "print(\"本國學生出國進修交流總人數(女):\",c+d)"
   ]
  },
  {
   "cell_type": "code",
   "execution_count": null,
   "metadata": {},
   "outputs": [],
   "source": []
  }
 ],
 "metadata": {
  "kernelspec": {
   "display_name": "Python 3",
   "language": "python",
   "name": "python3"
  },
  "language_info": {
   "codemirror_mode": {
    "name": "ipython",
    "version": 3
   },
   "file_extension": ".py",
   "mimetype": "text/x-python",
   "name": "python",
   "nbconvert_exporter": "python",
   "pygments_lexer": "ipython3",
   "version": "3.7.4"
  }
 },
 "nbformat": 4,
 "nbformat_minor": 2
}
